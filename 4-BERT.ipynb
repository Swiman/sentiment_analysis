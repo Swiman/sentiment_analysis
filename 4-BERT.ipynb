{
 "cells": [
  {
   "cell_type": "code",
   "execution_count": 1,
   "metadata": {
    "colab": {
     "base_uri": "https://localhost:8080/",
     "height": 35
    },
    "colab_type": "code",
    "executionInfo": {
     "elapsed": 763,
     "status": "ok",
     "timestamp": 1571229075068,
     "user": {
      "displayName": "Amin Swiman",
      "photoUrl": "",
      "userId": "10355451267185179660"
     },
     "user_tz": -210
    },
    "id": "NdAjbmOvx-0-",
    "outputId": "d3209d5e-42eb-46bd-ee9f-9287271a2463"
   },
   "outputs": [],
   "source": [
    "from google.colab import drive\n",
    "drive.mount('/content/drive')"
   ]
  },
  {
   "cell_type": "code",
   "execution_count": 2,
   "metadata": {
    "colab": {
     "base_uri": "https://localhost:8080/",
     "height": 35
    },
    "colab_type": "code",
    "executionInfo": {
     "elapsed": 642,
     "status": "ok",
     "timestamp": 1571227003734,
     "user": {
      "displayName": "Amin Swiman",
      "photoUrl": "",
      "userId": "10355451267185179660"
     },
     "user_tz": -210
    },
    "id": "A6y5OuXUDX76",
    "outputId": "77652fdb-c4a8-4d42-e5d9-6ecc2822da5d"
   },
   "outputs": [
    {
     "data": {
      "text/plain": [
       "25000"
      ]
     },
     "execution_count": 2,
     "metadata": {
      "tags": []
     },
     "output_type": "execute_result"
    }
   ],
   "source": [
    "#!unzip '/content/drive/My Drive/all data/clean_bert'\n",
    "import pickle\n",
    "\n",
    "with open('br_tr' , 'rb') as f:\n",
    "  tr = pickle.load(f)\n",
    "len(tr)"
   ]
  },
  {
   "cell_type": "code",
   "execution_count": 4,
   "metadata": {
    "colab": {
     "base_uri": "https://localhost:8080/",
     "height": 72
    },
    "colab_type": "code",
    "executionInfo": {
     "elapsed": 1359,
     "status": "ok",
     "timestamp": 1571223942646,
     "user": {
      "displayName": "Amin Swiman",
      "photoUrl": "",
      "userId": "10355451267185179660"
     },
     "user_tz": -210
    },
    "id": "D1QBb7wG0WP_",
    "outputId": "5e43937f-9e31-40dc-89ac-3c669947954b"
   },
   "outputs": [
    {
     "name": "stdout",
     "output_type": "stream",
     "text": [
      "[nltk_data] Downloading package punkt to /root/nltk_data...\n",
      "[nltk_data]   Package punkt is already up-to-date!\n"
     ]
    },
    {
     "data": {
      "text/plain": [
       "True"
      ]
     },
     "execution_count": 4,
     "metadata": {
      "tags": []
     },
     "output_type": "execute_result"
    }
   ],
   "source": [
    "import nltk\n",
    "\n",
    "from nltk.tokenize import sent_tokenize\n",
    "nltk.download('punkt')"
   ]
  },
  {
   "cell_type": "markdown",
   "metadata": {
    "colab_type": "text",
    "id": "-KziMNLKvpcg"
   },
   "source": [
    "# TOKEN LEVEL FEATURES"
   ]
  },
  {
   "cell_type": "code",
   "execution_count": 0,
   "metadata": {
    "colab": {},
    "colab_type": "code",
    "id": "Cp8QR0rtz0YC"
   },
   "outputs": [],
   "source": [
    "#!pip install bert-embedding\n",
    "#!pip install mxnet-cu100\n",
    "#!pip uninstall mxnet"
   ]
  },
  {
   "cell_type": "code",
   "execution_count": 0,
   "metadata": {
    "colab": {
     "base_uri": "https://localhost:8080/",
     "height": 110
    },
    "colab_type": "code",
    "executionInfo": {
     "elapsed": 30872,
     "status": "ok",
     "timestamp": 1571132611191,
     "user": {
      "displayName": "Amin Swiman",
      "photoUrl": "",
      "userId": "10355451267185179660"
     },
     "user_tz": -210
    },
    "id": "AHeQCdNY0Fgd",
    "outputId": "9dac0694-de37-437f-ec00-5d29ca4fd750"
   },
   "outputs": [
    {
     "name": "stderr",
     "output_type": "stream",
     "text": [
      "WARNING:root:Mismatch in the content of model file detected. Downloading again.\n"
     ]
    },
    {
     "name": "stdout",
     "output_type": "stream",
     "text": [
      "Downloading /root/.mxnet/models/bert_12_768_12_book_corpus_wiki_en_uncased-75cc780f.zip from https://apache-mxnet.s3-accelerate.dualstack.amazonaws.com/gluon/models/bert_12_768_12_book_corpus_wiki_en_uncased-75cc780f.zip...\n"
     ]
    },
    {
     "name": "stderr",
     "output_type": "stream",
     "text": [
      "/usr/local/lib/python3.6/dist-packages/mxnet/gluon/utils.py:334: UserWarning: File /root/.mxnet/models/bert_12_768_12_book_corpus_wiki_en_uncased-75cc780f.zip exists in file system so the downloaded file is deleted\n",
      "  'File {} exists in file system so the downloaded file is deleted'.format(fname))\n"
     ]
    }
   ],
   "source": [
    "import mxnet as mx\n",
    "\n",
    "from bert_embedding import BertEmbedding\n",
    "bert_embedding = BertEmbedding()\n",
    "ctx = mx.gpu(0)\n",
    "bert = BertEmbedding(ctx=ctx)"
   ]
  },
  {
   "cell_type": "code",
   "execution_count": 0,
   "metadata": {
    "colab": {
     "base_uri": "https://localhost:8080/",
     "height": 935
    },
    "colab_type": "code",
    "executionInfo": {
     "elapsed": 6593970,
     "status": "ok",
     "timestamp": 1571139276993,
     "user": {
      "displayName": "Amin Swiman",
      "photoUrl": "",
      "userId": "10355451267185179660"
     },
     "user_tz": -210
    },
    "id": "GjephUXN0ZaR",
    "outputId": "986d99e9-419f-4d71-c03c-2d1319438ffe",
    "scrolled": true
   },
   "outputs": [
    {
     "name": "stdout",
     "output_type": "stream",
     "text": [
      "100\n",
      "200\n",
      "300\n",
      "400\n",
      "500\n",
      "600\n",
      "700\n",
      "800\n",
      "900\n",
      "1000\n",
      "1100\n",
      "1200\n",
      "1300\n",
      "1400\n",
      "1500\n",
      "1600\n",
      "1700\n",
      "1800\n",
      "1900\n",
      "2000\n",
      "2100\n",
      "2200\n",
      "2300\n",
      "2400\n",
      "2500\n",
      "2600\n",
      "2700\n",
      "2800\n",
      "2900\n",
      "3000\n",
      "3100\n",
      "3200\n",
      "3300\n",
      "3400\n",
      "3500\n",
      "3600\n",
      "3700\n",
      "3800\n",
      "3900\n",
      "4000\n",
      "4100\n",
      "4200\n",
      "4300\n",
      "4400\n",
      "4500\n",
      "4600\n",
      "4700\n",
      "4800\n",
      "4900\n",
      "5000\n"
     ]
    }
   ],
   "source": [
    "import numpy as np\n",
    "bert_embedding = BertEmbedding()\n",
    "t = tr[5000:10000]\n",
    "k = 0\n",
    "\n",
    "doc_vecs = []\n",
    "for doc in t:\n",
    "  sentences = sent_tokenize(doc)\n",
    "  len(sentences)\n",
    "  result = bert_embedding(sentences)\n",
    "  t = np.zeros(768)\n",
    "  l = 0\n",
    "  for i in range(len(result)):\n",
    "    l += len(result[i][1])\n",
    "    t += np.sum(result[i][1],axis = 0)\n",
    "  doc_vecs.append(t/l)\n",
    "  k+=1\n",
    "  if k%100 == 0:print(k)\n"
   ]
  },
  {
   "cell_type": "code",
   "execution_count": 0,
   "metadata": {
    "colab": {},
    "colab_type": "code",
    "id": "h9sF8lxF4qq7"
   },
   "outputs": [],
   "source": [
    "with open('/content/drive/My Drive/all data/2token' , 'wb') as f:\n",
    "  pickle.dump(doc_vecs,f)"
   ]
  },
  {
   "cell_type": "markdown",
   "metadata": {
    "colab_type": "text",
    "id": "5n-hinACv1wv"
   },
   "source": [
    "# SENTECE LEVEL FEATURES"
   ]
  },
  {
   "cell_type": "code",
   "execution_count": 0,
   "metadata": {
    "colab": {},
    "colab_type": "code",
    "id": "w5EXMuyzyTzu"
   },
   "outputs": [],
   "source": [
    "#!pip install -U sentence-transformers\n",
    "from sentence_transformers import SentenceTransformer\n",
    "model = SentenceTransformer('bert-base-nli-mean-tokens')"
   ]
  },
  {
   "cell_type": "code",
   "execution_count": 11,
   "metadata": {
    "colab": {
     "base_uri": "https://localhost:8080/",
     "height": 1000
    },
    "colab_type": "code",
    "executionInfo": {
     "elapsed": 784288,
     "status": "ok",
     "timestamp": 1571226372475,
     "user": {
      "displayName": "Amin Swiman",
      "photoUrl": "",
      "userId": "10355451267185179660"
     },
     "user_tz": -210
    },
    "id": "yWZmCrvTv69o",
    "outputId": "9f452d97-9c13-4d68-995a-34975e11cf54"
   },
   "outputs": [
    {
     "name": "stdout",
     "output_type": "stream",
     "text": [
      "200\n",
      "400\n",
      "600\n",
      "800\n",
      "1000\n",
      "1200\n",
      "1400\n",
      "1600\n",
      "1800\n",
      "2000\n",
      "2200\n",
      "2400\n",
      "2600\n",
      "2800\n",
      "3000\n",
      "3200\n",
      "3400\n",
      "3600\n",
      "3800\n",
      "4000\n",
      "4200\n",
      "4400\n",
      "4600\n",
      "4800\n",
      "5000\n",
      "5200\n",
      "5400\n",
      "5600\n",
      "5800\n",
      "6000\n",
      "6200\n",
      "6400\n",
      "6600\n",
      "6800\n",
      "7000\n",
      "7200\n",
      "7400\n",
      "7600\n",
      "7800\n",
      "8000\n",
      "8200\n",
      "8400\n",
      "8600\n",
      "8800\n",
      "9000\n",
      "9200\n",
      "9400\n",
      "9600\n",
      "9800\n",
      "10000\n",
      "10200\n",
      "10400\n",
      "10600\n",
      "10800\n",
      "11000\n",
      "11200\n",
      "11400\n",
      "11600\n",
      "11800\n",
      "12000\n",
      "12200\n",
      "12400\n",
      "12600\n",
      "12800\n",
      "13000\n",
      "13200\n",
      "13400\n",
      "13600\n",
      "13800\n",
      "14000\n",
      "14200\n",
      "14400\n",
      "14600\n",
      "14800\n",
      "15000\n",
      "15200\n",
      "15400\n",
      "15600\n",
      "15800\n",
      "16000\n",
      "16200\n",
      "16400\n",
      "16600\n",
      "16800\n",
      "17000\n",
      "17200\n",
      "17400\n",
      "17600\n",
      "17800\n",
      "18000\n",
      "18200\n",
      "18400\n",
      "18600\n",
      "18800\n",
      "19000\n",
      "19200\n",
      "19400\n",
      "19600\n",
      "19800\n",
      "20000\n",
      "20200\n",
      "20400\n",
      "20600\n",
      "20800\n",
      "21000\n",
      "21200\n",
      "21400\n",
      "21600\n",
      "21800\n",
      "22000\n",
      "22200\n",
      "22400\n",
      "22600\n",
      "22800\n",
      "23000\n",
      "23200\n",
      "23400\n",
      "23600\n",
      "23800\n",
      "24000\n",
      "24200\n",
      "24400\n",
      "24600\n",
      "24800\n",
      "25000\n"
     ]
    }
   ],
   "source": [
    "import numpy as np\n",
    "k = 0\n",
    "doc_vecs = []\n",
    "for doc in te:\n",
    "  sentences = sent_tokenize(doc)\n",
    "  sentence_embeddings = model.encode(sentences)\n",
    "  doc_vecs.append(np.mean(sentence_embeddings,axis = 0))\n",
    "  k+=1\n",
    "  if k%200 == 0:print(k)\n"
   ]
  },
  {
   "cell_type": "code",
   "execution_count": 0,
   "metadata": {
    "colab": {},
    "colab_type": "code",
    "id": "xw-eGCIOwMB_"
   },
   "outputs": [],
   "source": [
    "with open('/content/drive/My Drive/all data/1sentences_te' , 'wb') as f:\n",
    "  pickle.dump(doc_vecs,f)"
   ]
  },
  {
   "cell_type": "markdown",
   "metadata": {
    "colab_type": "text",
    "id": "wCjxBSeG-PZF"
   },
   "source": [
    "# LOAD FEATURES"
   ]
  },
  {
   "cell_type": "code",
   "execution_count": 2,
   "metadata": {
    "colab": {
     "base_uri": "https://localhost:8080/",
     "height": 35
    },
    "colab_type": "code",
    "executionInfo": {
     "elapsed": 1880,
     "status": "ok",
     "timestamp": 1571229236002,
     "user": {
      "displayName": "Amin Swiman",
      "photoUrl": "",
      "userId": "10355451267185179660"
     },
     "user_tz": -210
    },
    "id": "L4kzVJD9-Vul",
    "outputId": "3dd17271-e6a6-4c5b-f2c5-77c6fa1d9567"
   },
   "outputs": [
    {
     "data": {
      "text/plain": [
       "(50000, 768)"
      ]
     },
     "execution_count": 2,
     "metadata": {
      "tags": []
     },
     "output_type": "execute_result"
    }
   ],
   "source": [
    "import pickle\n",
    "import numpy as np\n",
    "\n",
    "with open('/content/drive/My Drive/Bert/Sen_feats','rb') as f:\n",
    "  s_feats = pickle.load(f)\n",
    "np.array(s_feats).shape"
   ]
  },
  {
   "cell_type": "code",
   "execution_count": 3,
   "metadata": {
    "colab": {
     "base_uri": "https://localhost:8080/",
     "height": 35
    },
    "colab_type": "code",
    "executionInfo": {
     "elapsed": 2155,
     "status": "ok",
     "timestamp": 1571229240139,
     "user": {
      "displayName": "Amin Swiman",
      "photoUrl": "",
      "userId": "10355451267185179660"
     },
     "user_tz": -210
    },
    "id": "OnO-ad_pA3C1",
    "outputId": "48542ec7-1d63-4703-e909-82c4b248bd13"
   },
   "outputs": [
    {
     "data": {
      "text/plain": [
       "(50000, 768)"
      ]
     },
     "execution_count": 3,
     "metadata": {
      "tags": []
     },
     "output_type": "execute_result"
    }
   ],
   "source": [
    "import pickle\n",
    "\n",
    "with open('/content/drive/My Drive/Bert/Tok_feats','rb') as f:\n",
    "  t_feats = pickle.load(f)\n",
    "np.array(t_feats).shape"
   ]
  },
  {
   "cell_type": "markdown",
   "metadata": {
    "colab_type": "text",
    "id": "4KZYBt5GD-Ss"
   },
   "source": [
    "# NAIVE BAYES"
   ]
  },
  {
   "cell_type": "code",
   "execution_count": 0,
   "metadata": {
    "colab": {},
    "colab_type": "code",
    "id": "FwNbk61dD-Au"
   },
   "outputs": [],
   "source": [
    "from sklearn.naive_bayes import GaussianNB\n",
    "import numpy as np\n",
    "\n",
    "labels = np.zeros(25000)\n",
    "labels[:12500] = 1"
   ]
  },
  {
   "cell_type": "code",
   "execution_count": 5,
   "metadata": {
    "colab": {
     "base_uri": "https://localhost:8080/",
     "height": 35
    },
    "colab_type": "code",
    "executionInfo": {
     "elapsed": 2221,
     "status": "ok",
     "timestamp": 1571229247943,
     "user": {
      "displayName": "Amin Swiman",
      "photoUrl": "",
      "userId": "10355451267185179660"
     },
     "user_tz": -210
    },
    "id": "Ys0pCoCjD9PH",
    "outputId": "54b4439e-cbb6-4c43-ff96-740e50107e16"
   },
   "outputs": [
    {
     "data": {
      "text/plain": [
       "GaussianNB(priors=None, var_smoothing=1e-09)"
      ]
     },
     "execution_count": 5,
     "metadata": {
      "tags": []
     },
     "output_type": "execute_result"
    }
   ],
   "source": [
    "gnb_t = GaussianNB()\n",
    "gnb_s = GaussianNB()\n",
    "\n",
    "gnb_t.fit(t_feats[:25000],labels)\n",
    "\n",
    "gnb_s.fit(s_feats[:25000],labels)"
   ]
  },
  {
   "cell_type": "code",
   "execution_count": 7,
   "metadata": {
    "colab": {
     "base_uri": "https://localhost:8080/",
     "height": 35
    },
    "colab_type": "code",
    "executionInfo": {
     "elapsed": 2041,
     "status": "ok",
     "timestamp": 1571229262040,
     "user": {
      "displayName": "Amin Swiman",
      "photoUrl": "",
      "userId": "10355451267185179660"
     },
     "user_tz": -210
    },
    "id": "cjXqSc3Qct5Q",
    "outputId": "fe985600-0464-4dbb-98c8-313c01177a1d"
   },
   "outputs": [
    {
     "data": {
      "text/plain": [
       "0.83192"
      ]
     },
     "execution_count": 7,
     "metadata": {
      "tags": []
     },
     "output_type": "execute_result"
    }
   ],
   "source": [
    "y_pred_t = gnb_t.predict(t_feats[25000:])\n",
    "y_pred_s = gnb_s.predict(s_feats[25000:])\n",
    "\n",
    "np.mean(y_pred_s == labels)"
   ]
  },
  {
   "cell_type": "markdown",
   "metadata": {
    "colab_type": "text",
    "id": "DblDGcxMdKUp"
   },
   "source": [
    "# SVM"
   ]
  },
  {
   "cell_type": "code",
   "execution_count": 9,
   "metadata": {
    "colab": {
     "base_uri": "https://localhost:8080/",
     "height": 110
    },
    "colab_type": "code",
    "executionInfo": {
     "elapsed": 54705,
     "status": "ok",
     "timestamp": 1571229439605,
     "user": {
      "displayName": "Amin Swiman",
      "photoUrl": "",
      "userId": "10355451267185179660"
     },
     "user_tz": -210
    },
    "id": "zCGElBZMdJGz",
    "outputId": "4943d04b-401f-42e7-9221-4438abfeb2d7"
   },
   "outputs": [
    {
     "name": "stderr",
     "output_type": "stream",
     "text": [
      "/usr/local/lib/python3.6/dist-packages/sklearn/svm/base.py:929: ConvergenceWarning: Liblinear failed to converge, increase the number of iterations.\n",
      "  \"the number of iterations.\", ConvergenceWarning)\n",
      "/usr/local/lib/python3.6/dist-packages/sklearn/svm/base.py:929: ConvergenceWarning: Liblinear failed to converge, increase the number of iterations.\n",
      "  \"the number of iterations.\", ConvergenceWarning)\n"
     ]
    }
   ],
   "source": [
    "import sklearn.svm as SVM\n",
    "svm = SVM.LinearSVC(max_iter=500)\n",
    "svm_s = svm.fit(s_feats[:25000],labels)\n",
    "svm_t = svm.fit(t_feats[:25000],labels)\n",
    "\n",
    "\n",
    "labels = np.zeros(25000)\n",
    "labels[:12500] = 1"
   ]
  },
  {
   "cell_type": "code",
   "execution_count": 0,
   "metadata": {
    "colab": {},
    "colab_type": "code",
    "id": "72a4nAWCe8Va"
   },
   "outputs": [],
   "source": [
    "y_pred_s = svm_s.predict(s_feats[25000:])\n",
    "y_pred_t = svm_t.predict(t_feats[25000:])"
   ]
  },
  {
   "cell_type": "code",
   "execution_count": 23,
   "metadata": {
    "colab": {
     "base_uri": "https://localhost:8080/",
     "height": 35
    },
    "colab_type": "code",
    "executionInfo": {
     "elapsed": 711,
     "status": "ok",
     "timestamp": 1571229836217,
     "user": {
      "displayName": "Amin Swiman",
      "photoUrl": "",
      "userId": "10355451267185179660"
     },
     "user_tz": -210
    },
    "id": "tMDMCK3SfVmp",
    "outputId": "c00cc34e-2296-42e4-91ad-db59cbd23720"
   },
   "outputs": [
    {
     "data": {
      "text/plain": [
       "0.76872"
      ]
     },
     "execution_count": 23,
     "metadata": {
      "tags": []
     },
     "output_type": "execute_result"
    }
   ],
   "source": [
    "np.mean(y_pred_s == labels)"
   ]
  },
  {
   "cell_type": "markdown",
   "metadata": {
    "colab_type": "text",
    "id": "7xzbMH0vgaaq"
   },
   "source": [
    "# DECISION TREE"
   ]
  },
  {
   "cell_type": "code",
   "execution_count": 18,
   "metadata": {
    "colab": {
     "base_uri": "https://localhost:8080/",
     "height": 127
    },
    "colab_type": "code",
    "executionInfo": {
     "elapsed": 99336,
     "status": "ok",
     "timestamp": 1571229773620,
     "user": {
      "displayName": "Amin Swiman",
      "photoUrl": "",
      "userId": "10355451267185179660"
     },
     "user_tz": -210
    },
    "id": "reKOgvXVgeA3",
    "outputId": "dc43ed25-9731-4d31-b09e-8db4b7b24cb4"
   },
   "outputs": [
    {
     "data": {
      "text/plain": [
       "DecisionTreeClassifier(class_weight=None, criterion='gini', max_depth=None,\n",
       "                       max_features=None, max_leaf_nodes=None,\n",
       "                       min_impurity_decrease=0.0, min_impurity_split=None,\n",
       "                       min_samples_leaf=1, min_samples_split=2,\n",
       "                       min_weight_fraction_leaf=0.0, presort=False,\n",
       "                       random_state=None, splitter='best')"
      ]
     },
     "execution_count": 18,
     "metadata": {
      "tags": []
     },
     "output_type": "execute_result"
    }
   ],
   "source": [
    "from sklearn.tree import DecisionTreeClassifier\n",
    "dt_t = DecisionTreeClassifier()\n",
    "dt_s = DecisionTreeClassifier()\n",
    "\n",
    "dt_t.fit(t_feats[:25000],labels)\n",
    "dt_s.fit(s_feats[:25000],labels)\n"
   ]
  },
  {
   "cell_type": "code",
   "execution_count": 0,
   "metadata": {
    "colab": {},
    "colab_type": "code",
    "id": "XZ1hb2NshNo5"
   },
   "outputs": [],
   "source": [
    "y_pred_t = dt_t.predict(t_feats[25000:])\n",
    "y_pred_s = dt_s.predict(s_feats[25000:])"
   ]
  },
  {
   "cell_type": "code",
   "execution_count": 26,
   "metadata": {
    "colab": {
     "base_uri": "https://localhost:8080/",
     "height": 35
    },
    "colab_type": "code",
    "executionInfo": {
     "elapsed": 696,
     "status": "ok",
     "timestamp": 1571229862011,
     "user": {
      "displayName": "Amin Swiman",
      "photoUrl": "",
      "userId": "10355451267185179660"
     },
     "user_tz": -210
    },
    "id": "uGiu49HLhkJp",
    "outputId": "a8a2bf66-1159-4b50-c047-8caac28fb5d1"
   },
   "outputs": [
    {
     "data": {
      "text/plain": [
       "0.68924"
      ]
     },
     "execution_count": 26,
     "metadata": {
      "tags": []
     },
     "output_type": "execute_result"
    }
   ],
   "source": [
    "np.mean(y_pred_t == labels)"
   ]
  },
  {
   "cell_type": "markdown",
   "metadata": {
    "colab_type": "text",
    "id": "eTSiLJlUhsfQ"
   },
   "source": [
    "# RANDOM FOREST"
   ]
  },
  {
   "cell_type": "code",
   "execution_count": 28,
   "metadata": {
    "colab": {
     "base_uri": "https://localhost:8080/",
     "height": 239
    },
    "colab_type": "code",
    "executionInfo": {
     "elapsed": 16858,
     "status": "ok",
     "timestamp": 1571229901166,
     "user": {
      "displayName": "Amin Swiman",
      "photoUrl": "",
      "userId": "10355451267185179660"
     },
     "user_tz": -210
    },
    "id": "OUezFu5KhqUb",
    "outputId": "9d036041-b769-4f54-f8fc-c4763b40c128"
   },
   "outputs": [
    {
     "name": "stderr",
     "output_type": "stream",
     "text": [
      "/usr/local/lib/python3.6/dist-packages/sklearn/ensemble/forest.py:245: FutureWarning: The default value of n_estimators will change from 10 in version 0.20 to 100 in 0.22.\n",
      "  \"10 in version 0.20 to 100 in 0.22.\", FutureWarning)\n",
      "/usr/local/lib/python3.6/dist-packages/sklearn/ensemble/forest.py:245: FutureWarning: The default value of n_estimators will change from 10 in version 0.20 to 100 in 0.22.\n",
      "  \"10 in version 0.20 to 100 in 0.22.\", FutureWarning)\n"
     ]
    },
    {
     "data": {
      "text/plain": [
       "RandomForestClassifier(bootstrap=True, class_weight=None, criterion='gini',\n",
       "                       max_depth=None, max_features='auto', max_leaf_nodes=None,\n",
       "                       min_impurity_decrease=0.0, min_impurity_split=None,\n",
       "                       min_samples_leaf=1, min_samples_split=2,\n",
       "                       min_weight_fraction_leaf=0.0, n_estimators=10,\n",
       "                       n_jobs=None, oob_score=False, random_state=None,\n",
       "                       verbose=0, warm_start=False)"
      ]
     },
     "execution_count": 28,
     "metadata": {
      "tags": []
     },
     "output_type": "execute_result"
    }
   ],
   "source": [
    "from sklearn.ensemble import RandomForestClassifier\n",
    "\n",
    "rf_t = RandomForestClassifier()\n",
    "rf_s = RandomForestClassifier()\n",
    "\n",
    "rf_t.fit(t_feats[:25000],labels)\n",
    "rf_s.fit(s_feats[:25000],labels)"
   ]
  },
  {
   "cell_type": "code",
   "execution_count": 0,
   "metadata": {
    "colab": {},
    "colab_type": "code",
    "id": "9NfhTw_Xigep"
   },
   "outputs": [],
   "source": [
    "y_pred_t = rf_t.predict(t_feats[25000:])\n",
    "y_pred_s = rf_s.predict(s_feats[25000:])"
   ]
  },
  {
   "cell_type": "code",
   "execution_count": 0,
   "metadata": {
    "colab": {},
    "colab_type": "code",
    "id": "CNZD8kzsisRK"
   },
   "outputs": [],
   "source": [
    "with open('/content/drive/My Drive/rf/y_pred_bertT','wb') as f:\n",
    "  pickle.dump(y_pred_t,f)\n",
    "with open('/content/drive/My Drive/rf/y_pred_bertS','wb') as f:\n",
    "  pickle.dump(y_pred_s,f)\n"
   ]
  }
 ],
 "metadata": {
  "colab": {
   "collapsed_sections": [
    "-KziMNLKvpcg",
    "5n-hinACv1wv"
   ],
   "name": "BERT.ipynb",
   "provenance": []
  },
  "kernelspec": {
   "display_name": "Python 3",
   "language": "python",
   "name": "python3"
  },
  "language_info": {
   "codemirror_mode": {
    "name": "ipython",
    "version": 3
   },
   "file_extension": ".py",
   "mimetype": "text/x-python",
   "name": "python",
   "nbconvert_exporter": "python",
   "pygments_lexer": "ipython3",
   "version": "3.7.4"
  }
 },
 "nbformat": 4,
 "nbformat_minor": 1
}
