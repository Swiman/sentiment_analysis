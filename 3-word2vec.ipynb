{
 "cells": [
  {
   "cell_type": "code",
   "execution_count": 1,
   "metadata": {
    "colab": {},
    "colab_type": "code",
    "id": "bt4N6wznuWcr"
   },
   "outputs": [],
   "source": [
    "from gensim.models import Word2Vec,KeyedVectors\n",
    "import pickle\n",
    "import os\n",
    "import numpy as np\n",
    "from sklearn.naive_bayes import BernoulliNB\n",
    "from sklearn.tree import DecisionTreeClassifier\n",
    "from sklearn import svm\n",
    "from sklearn.ensemble import RandomForestClassifier\n",
    "from sklearn.metrics import roc_curve,roc_auc_score,recall_score,f1_score,precision_score,confusion_matrix\n",
    "\n",
    "labels = np.zeros(25000)\n",
    "labels[:12500] = 1"
   ]
  },
  {
   "cell_type": "code",
   "execution_count": 1,
   "metadata": {
    "colab": {
     "base_uri": "https://localhost:8080/",
     "height": 129
    },
    "colab_type": "code",
    "id": "igWfW4N3yLGM",
    "outputId": "6940315f-dc65-4d04-ca77-13c6a3000a19"
   },
   "outputs": [],
   "source": [
    "from google.colab import drive\n",
    "drive.mount('/content/drive')"
   ]
  },
  {
   "cell_type": "markdown",
   "metadata": {
    "colab_type": "text",
    "id": "VdCZa3eQ6NIX"
   },
   "source": [
    "# EXTRACT FEATURES"
   ]
  },
  {
   "cell_type": "code",
   "execution_count": 0,
   "metadata": {
    "colab": {
     "base_uri": "https://localhost:8080/",
     "height": 35
    },
    "colab_type": "code",
    "id": "lS7D4yi3Uq7z",
    "outputId": "635a1643-cbe9-41de-bcf1-5f9a626878f6"
   },
   "outputs": [
    {
     "data": {
      "text/plain": [
       "50000"
      ]
     },
     "execution_count": 15,
     "metadata": {
      "tags": []
     },
     "output_type": "execute_result"
    }
   ],
   "source": [
    "with open('/content/drive/My Drive/all data/tr','rb') as f:\n",
    "  tr = pickle.load(f)\n",
    "with open('/content/drive/My Drive/all data/te','rb') as f:\n",
    "  te = pickle.load(f)\n",
    "tr.extend(te)\n",
    "len(tr)"
   ]
  },
  {
   "cell_type": "code",
   "execution_count": 0,
   "metadata": {
    "colab": {},
    "colab_type": "code",
    "id": "vRtcW1YEVL_2"
   },
   "outputs": [],
   "source": [
    "model = Word2Vec(tr,size=100,\n",
    "        window=10,\n",
    "        min_count=0,\n",
    "        workers=10,\n",
    "        iter=100)\n",
    "        \n",
    "\n",
    "Word2Vec.save(model,'/content/drive/My Drive/WORD2VEC/wv_model')"
   ]
  },
  {
   "cell_type": "code",
   "execution_count": 0,
   "metadata": {
    "colab": {
     "base_uri": "https://localhost:8080/",
     "height": 74
    },
    "colab_type": "code",
    "id": "j_UTNM49aTKg",
    "outputId": "c7493206-5335-4800-f277-08a2547292ab"
   },
   "outputs": [
    {
     "name": "stderr",
     "output_type": "stream",
     "text": [
      "/usr/local/lib/python3.6/dist-packages/smart_open/smart_open_lib.py:398: UserWarning: This function is deprecated, use smart_open.open instead. See the migration notes for details: https://github.com/RaRe-Technologies/smart_open/blob/master/README.rst#migrating-to-the-new-open-function\n",
      "  'See the migration notes for details: %s' % _MIGRATION_NOTES_URL\n"
     ]
    }
   ],
   "source": [
    "#model = Word2Vec.load('/content/drive/My Drive/WORD2VEC/wv_model')\n",
    "#model.train(tr,total_examples=50000,\n",
    "#        epochs=10)\n",
    "\n",
    "#Word2Vec.save(model,'/content/drive/My Drive/WORD2VEC/wv_model')\n",
    "\n",
    "\n",
    "a = KeyedVectors.load('/content/drive/My Drive/WORD2VEC/wv_model',mmap = 'r')\n"
   ]
  },
  {
   "cell_type": "code",
   "execution_count": 0,
   "metadata": {
    "colab": {},
    "colab_type": "code",
    "id": "NhbH6Ym6Omkq"
   },
   "outputs": [],
   "source": [
    "w2v_feats = []\n",
    "for doc in tr:\n",
    "  w2v_feats.append(np.mean(a.wv.__getitem__(doc),axis = 0))\n",
    "#with open('/content/drive/My Drive/WORD2VEC/w2v_feats','wb') as f:\n",
    "#  pickle.dump(w2v_feats,f)"
   ]
  },
  {
   "cell_type": "markdown",
   "metadata": {
    "colab_type": "text",
    "id": "dkT-z8nx6Tag"
   },
   "source": [
    "# LOAD FEATURES"
   ]
  },
  {
   "cell_type": "code",
   "execution_count": 0,
   "metadata": {
    "colab": {},
    "colab_type": "code",
    "id": "EwdbfezR6ZGd"
   },
   "outputs": [],
   "source": [
    "with open('/content/drive/My Drive/WORD2VEC/w2v_feats','rb') as f:\n",
    "  feats = pickle.load(f)\n",
    "with open('/content/drive/My Drive/WORD2VEC/w2v_feats_sw','rb') as f:\n",
    "  feats_sw = pickle.load(f)"
   ]
  },
  {
   "cell_type": "markdown",
   "metadata": {
    "colab_type": "text",
    "id": "6srK1O5iToJT"
   },
   "source": [
    "## **Nive Bayes**"
   ]
  },
  {
   "cell_type": "code",
   "execution_count": 0,
   "metadata": {
    "colab": {},
    "colab_type": "code",
    "id": "im64ls-f05mz"
   },
   "outputs": [],
   "source": [
    "gnb = BernoulliNB()\n",
    "gnb_model = gnb.fit(feats[:25000],labels)\n",
    "#with open('/content/drive/My Drive/nb/w2v_sw','wb') as f:\n",
    "#  pickle.dump(gnb_model_sw,f)"
   ]
  },
  {
   "cell_type": "code",
   "execution_count": 0,
   "metadata": {
    "colab": {},
    "colab_type": "code",
    "id": "K8hnVmJW691Q"
   },
   "outputs": [],
   "source": [
    "y_pred = gnb_model.predict(feats[25000:])\n",
    "#with open('/content/drive/My Drive/nb/y_pred_W2V','wb') as f:\n",
    "#  pickle.dump(y_pred,f)\n"
   ]
  },
  {
   "cell_type": "code",
   "execution_count": 0,
   "metadata": {
    "colab": {
     "base_uri": "https://localhost:8080/",
     "height": 35
    },
    "colab_type": "code",
    "id": "cXOLpHUONlW7",
    "outputId": "730147b3-a06b-4986-cbf6-1605723f90b6"
   },
   "outputs": [
    {
     "data": {
      "text/plain": [
       "0.7222634049913517"
      ]
     },
     "execution_count": 29,
     "metadata": {
      "tags": []
     },
     "output_type": "execute_result"
    }
   ],
   "source": [
    "f1_score(y_pred,labels)"
   ]
  },
  {
   "cell_type": "code",
   "execution_count": 0,
   "metadata": {
    "colab": {},
    "colab_type": "code",
    "id": "O0Ulwjoa3NvQ"
   },
   "outputs": [],
   "source": [
    "gnb = BernoulliNB()\n",
    "gnb_model_sw = gnb.fit(feats_sw[:25000],labels)"
   ]
  },
  {
   "cell_type": "code",
   "execution_count": 0,
   "metadata": {
    "colab": {
     "base_uri": "https://localhost:8080/",
     "height": 35
    },
    "colab_type": "code",
    "id": "EriRf8O68x-r",
    "outputId": "aaace2c0-5410-4301-fdb5-9bc380b0a295"
   },
   "outputs": [
    {
     "data": {
      "text/plain": [
       "0.6264481610987066"
      ]
     },
     "execution_count": 31,
     "metadata": {
      "tags": []
     },
     "output_type": "execute_result"
    }
   ],
   "source": [
    "y_pred_sw = gnb_model_sw.predict(feats_sw[:25000])\n",
    "#with open('/content/drive/My Drive/nb/y_pred_W2V_sw','wb') as f:\n",
    "#  pickle.dump(y_pred_sw,f)\n",
    "f1_score(y_pred_sw,labels)"
   ]
  },
  {
   "cell_type": "code",
   "execution_count": 0,
   "metadata": {
    "colab": {},
    "colab_type": "code",
    "id": "ffCVLtVuyErl"
   },
   "outputs": [],
   "source": [
    "with open('/content/drive/My Drive/nb/y_pred_W2V_sw','rb') as f:\n",
    "  y_pred_sw = pickle.load(f)\n",
    "with open('/content/drive/My Drive/nb/y_pred_W2V','rb') as f:\n",
    "  y_pred = pickle.load(f)"
   ]
  },
  {
   "cell_type": "code",
   "execution_count": 0,
   "metadata": {
    "colab": {
     "base_uri": "https://localhost:8080/",
     "height": 54
    },
    "colab_type": "code",
    "id": "YL-u8c7obHDY",
    "outputId": "90ef659c-caee-4dad-999f-29bc2b35330a"
   },
   "outputs": [
    {
     "name": "stdout",
     "output_type": "stream",
     "text": [
      "0.74812\n",
      "0.66768\n"
     ]
    }
   ],
   "source": [
    "print(np.mean(y_pred == labels))\n",
    "print(np.mean(y_pred_sw == labels))"
   ]
  },
  {
   "cell_type": "markdown",
   "metadata": {
    "colab_type": "text",
    "id": "Aie6DdXjVkfm"
   },
   "source": [
    "# Random Forest"
   ]
  },
  {
   "cell_type": "code",
   "execution_count": 0,
   "metadata": {
    "colab": {
     "base_uri": "https://localhost:8080/",
     "height": 74
    },
    "colab_type": "code",
    "id": "89_TwgmQ6UGu",
    "outputId": "4ceba7b3-bac0-485b-8426-b7a2b4174554"
   },
   "outputs": [
    {
     "name": "stderr",
     "output_type": "stream",
     "text": [
      "/usr/local/lib/python3.6/dist-packages/sklearn/ensemble/forest.py:245: FutureWarning: The default value of n_estimators will change from 10 in version 0.20 to 100 in 0.22.\n",
      "  \"10 in version 0.20 to 100 in 0.22.\", FutureWarning)\n"
     ]
    }
   ],
   "source": [
    "rf = RandomForestClassifier()\n",
    "w2v = rf.fit(feats[:25000],labels)\n",
    "y_pred_w2v = w2v.predict(feats[25000:])"
   ]
  },
  {
   "cell_type": "code",
   "execution_count": 0,
   "metadata": {
    "colab": {
     "base_uri": "https://localhost:8080/",
     "height": 74
    },
    "colab_type": "code",
    "id": "FMBGJ_uq7K4N",
    "outputId": "1c7cf607-3eb2-48b8-e3a5-2330eba840b3"
   },
   "outputs": [
    {
     "name": "stderr",
     "output_type": "stream",
     "text": [
      "/usr/local/lib/python3.6/dist-packages/sklearn/ensemble/forest.py:245: FutureWarning: The default value of n_estimators will change from 10 in version 0.20 to 100 in 0.22.\n",
      "  \"10 in version 0.20 to 100 in 0.22.\", FutureWarning)\n"
     ]
    }
   ],
   "source": [
    "rf = RandomForestClassifier()\n",
    "w2v_sw = rf.fit(feats_sw[:25000],labels)\n",
    "y_pred_w2v_sw = w2v_sw.predict(feats_sw[25000:])"
   ]
  },
  {
   "cell_type": "code",
   "execution_count": 0,
   "metadata": {
    "colab": {},
    "colab_type": "code",
    "id": "R3jUV6yj8UJX"
   },
   "outputs": [],
   "source": [
    "with open('/content/drive/My Drive/rf/y_pred_W2V','rb') as f:\n",
    "  y_pred_w2v = pickle.load(f)\n",
    "with open('/content/drive/My Drive/rf/y_pred_W2V_sw','rb') as f:\n",
    "  y_pred_w2v_sw = pickle.load(f)"
   ]
  },
  {
   "cell_type": "code",
   "execution_count": 0,
   "metadata": {
    "colab": {
     "base_uri": "https://localhost:8080/",
     "height": 54
    },
    "colab_type": "code",
    "id": "cjjgwehcbUW8",
    "outputId": "36f681c5-c93d-4fde-dd3a-0b7b900d16b0"
   },
   "outputs": [
    {
     "name": "stdout",
     "output_type": "stream",
     "text": [
      "0.76136\n",
      "0.70568\n"
     ]
    }
   ],
   "source": [
    "print(np.mean(y_pred_w2v == labels))\n",
    "print(np.mean(y_pred_w2v_sw == labels))"
   ]
  },
  {
   "cell_type": "markdown",
   "metadata": {
    "colab_type": "text",
    "id": "ilZ4nEE6Xb5N"
   },
   "source": [
    "# Decision Tree"
   ]
  },
  {
   "cell_type": "code",
   "execution_count": 0,
   "metadata": {
    "colab": {},
    "colab_type": "code",
    "id": "w1cAmxPz987-"
   },
   "outputs": [],
   "source": [
    "dt = DecisionTreeClassifier()\n",
    "w2v_sw = dt.fit(feats_sw[:25000],labels)\n",
    "y_pred_w2v_sw = w2v_sw.predict(feats_sw[25000:])"
   ]
  },
  {
   "cell_type": "code",
   "execution_count": 0,
   "metadata": {
    "colab": {},
    "colab_type": "code",
    "id": "VR7JEqJ0-0cE"
   },
   "outputs": [],
   "source": [
    "dt = DecisionTreeClassifier()\n",
    "w2v = dt.fit(feats[:25000],labels)\n",
    "y_pred_w2v = w2v.predict(feats[25000:])"
   ]
  },
  {
   "cell_type": "code",
   "execution_count": 0,
   "metadata": {
    "colab": {},
    "colab_type": "code",
    "id": "Bfq5yNu__c1n"
   },
   "outputs": [],
   "source": [
    "with open('/content/drive/My Drive/dt/y_pred_W2V','rb') as f:\n",
    "  y_pred_w2v = pickle.load(f)\n",
    "with open('/content/drive/My Drive/dt/y_pred_W2V_sw','rb') as f:\n",
    "  y_pred_w2v_sw = pickle.load(f)"
   ]
  },
  {
   "cell_type": "code",
   "execution_count": 0,
   "metadata": {
    "colab": {
     "base_uri": "https://localhost:8080/",
     "height": 54
    },
    "colab_type": "code",
    "id": "yvVC7YRVbvKb",
    "outputId": "12ff6667-8bbd-4d08-fcfe-8dedd52cc992"
   },
   "outputs": [
    {
     "name": "stdout",
     "output_type": "stream",
     "text": [
      "0.7006\n",
      "0.6414\n"
     ]
    }
   ],
   "source": [
    "print(np.mean(y_pred_w2v == labels))\n",
    "print(np.mean(y_pred_w2v_sw == labels))"
   ]
  },
  {
   "cell_type": "markdown",
   "metadata": {
    "colab_type": "text",
    "id": "LQq7bcWZXmFo"
   },
   "source": [
    "# SVM"
   ]
  },
  {
   "cell_type": "code",
   "execution_count": 0,
   "metadata": {
    "colab": {
     "base_uri": "https://localhost:8080/",
     "height": 74
    },
    "colab_type": "code",
    "id": "qjUuFvRJAzuU",
    "outputId": "4a2f29fd-5e4f-49ea-c632-b37fd3b3fbf2"
   },
   "outputs": [
    {
     "name": "stderr",
     "output_type": "stream",
     "text": [
      "/usr/local/lib/python3.6/dist-packages/sklearn/svm/base.py:929: ConvergenceWarning: Liblinear failed to converge, increase the number of iterations.\n",
      "  \"the number of iterations.\", ConvergenceWarning)\n"
     ]
    }
   ],
   "source": [
    "s = svm.LinearSVC(max_iter=500)\n",
    "s.fit(feats[:25000],labels)\n",
    "y_pred = s.predict(feats[25000:])"
   ]
  },
  {
   "cell_type": "code",
   "execution_count": 0,
   "metadata": {
    "colab": {
     "base_uri": "https://localhost:8080/",
     "height": 74
    },
    "colab_type": "code",
    "id": "xJExW6yfBx7H",
    "outputId": "6e8293d1-b1fb-4f10-9ab0-d87c1afe4352"
   },
   "outputs": [
    {
     "name": "stderr",
     "output_type": "stream",
     "text": [
      "/usr/local/lib/python3.6/dist-packages/sklearn/svm/base.py:929: ConvergenceWarning: Liblinear failed to converge, increase the number of iterations.\n",
      "  \"the number of iterations.\", ConvergenceWarning)\n"
     ]
    }
   ],
   "source": [
    "s_sw = svm.LinearSVC(max_iter=500)\n",
    "s_sw.fit(feats_sw[:25000],labels)\n",
    "y_pred_sw = s_sw.predict(feats_sw[25000:])"
   ]
  },
  {
   "cell_type": "code",
   "execution_count": 0,
   "metadata": {
    "colab": {},
    "colab_type": "code",
    "id": "f7dsptMADcj5"
   },
   "outputs": [],
   "source": [
    "with open('/content/drive/My Drive/svm/y_pred_W2V','rb') as f:\n",
    "  y_pred = pickle.load(f)\n",
    "with open('/content/drive/My Drive/svm/y_pred_W2V_sw','rb') as f:\n",
    "  y_pred_sw = pickle.load(f)"
   ]
  },
  {
   "cell_type": "code",
   "execution_count": 0,
   "metadata": {
    "colab": {
     "base_uri": "https://localhost:8080/",
     "height": 54
    },
    "colab_type": "code",
    "id": "1qY2ZgH0YZfo",
    "outputId": "617be3eb-4dfd-476c-9a65-d1209a57fb47"
   },
   "outputs": [
    {
     "name": "stdout",
     "output_type": "stream",
     "text": [
      "0.86364\n",
      "0.84784\n"
     ]
    }
   ],
   "source": [
    "print(np.mean(y_pred == labels))\n",
    "print(np.mean(y_pred_sw == labels))"
   ]
  }
 ],
 "metadata": {
  "colab": {
   "collapsed_sections": [
    "VdCZa3eQ6NIX",
    "6srK1O5iToJT",
    "Aie6DdXjVkfm",
    "ilZ4nEE6Xb5N",
    "LQq7bcWZXmFo"
   ],
   "name": "word2vec.ipynb",
   "provenance": []
  },
  "kernelspec": {
   "display_name": "Python 3",
   "language": "python",
   "name": "python3"
  },
  "language_info": {
   "codemirror_mode": {
    "name": "ipython",
    "version": 3
   },
   "file_extension": ".py",
   "mimetype": "text/x-python",
   "name": "python",
   "nbconvert_exporter": "python",
   "pygments_lexer": "ipython3",
   "version": "3.7.4"
  }
 },
 "nbformat": 4,
 "nbformat_minor": 1
}
