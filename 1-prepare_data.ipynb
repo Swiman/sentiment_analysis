{
 "cells": [
  {
   "cell_type": "code",
   "execution_count": 1,
   "metadata": {
    "scrolled": true
   },
   "outputs": [],
   "source": [
    "import load_data \n",
    "\n",
    "\n",
    "import numpy as np\n",
    "from sklearn.feature_extraction.text import CountVectorizer,TfidfTransformer\n",
    "from sklearn.naive_bayes import GaussianNB\n",
    "import pickle\n",
    "import random\n",
    "\n",
    "#from collections import defaultdict\n",
    "\n",
    "from nltk.corpus import stopwords\n",
    "\n",
    "\n",
    "%load_ext autoreload\n",
    "%autoreload 2\n"
   ]
  },
  {
   "cell_type": "code",
   "execution_count": 3,
   "metadata": {},
   "outputs": [],
   "source": [
    "def remove_rare_tokens(docs,min_count):\n",
    "    a = defaultdict(int)\n",
    "    b = []\n",
    "    for token_list in docs:\n",
    "        for token in token_list:\n",
    "            a[token] += 1\n",
    "\n",
    "    for token_list in docs:\n",
    "        bs = []\n",
    "        for token in token_list:\n",
    "            if a[token] > min_count and len(token)>1:\n",
    "                bs.append(token)\n",
    "        b.append(bs)\n",
    "    return b"
   ]
  },
  {
   "cell_type": "code",
   "execution_count": 2,
   "metadata": {},
   "outputs": [],
   "source": [
    "s1 = load_data.load_with_sw('test/pos')\n",
    "#s2 = load_data.load_without_sw('test/pos')\n",
    "\n",
    "\n",
    "s3 = load_data.load_with_sw('test/neg')\n",
    "#s4 = load_data.load_without_sw('test/neg')\n",
    "\n",
    "s1.extend(s3)\n",
    "#s2.extend(s4)\n",
    "s1_t = remove_rare_tokens(s1,10)\n",
    "#s2_t = remove_rare_tokens(s2,10)\n",
    "\n",
    "with open('data/te_sw','wb') as f:\n",
    "    pickle.dump(s1_t,f)\n",
    "    \n",
    "labels = np.zeros(25000,dtype= int)\n",
    "labels[:12500] = 1\n",
    "\n"
   ]
  },
  {
   "cell_type": "code",
   "execution_count": null,
   "metadata": {},
   "outputs": [],
   "source": [
    "s1 = load_data.load_for_bert('train/pos')\n",
    "s2 = load_data.load_for_bert('train/neg')\n",
    "\n",
    "\n",
    "#s3 = load_data.load_for_bert('test/pos')\n",
    "#s4 = load_data.load_for_bert('test/neg')\n",
    "\n",
    "s1.extend(s2)\n",
    "\n",
    "#s3.extend(s4)\n",
    "\n",
    "with open('data/clean_bert','wb') as f:\n",
    "    pickle.dump(s1_t,f)\n",
    "    \n",
    "labels = np.zeros(25000,dtype= int)\n",
    "labels[:12500] = 1\n"
   ]
  },
  {
   "cell_type": "code",
   "execution_count": 4,
   "metadata": {},
   "outputs": [
    {
     "name": "stdout",
     "output_type": "stream",
     "text": [
      "['high', 'cartoon', 'comedi', 'ran', 'time', 'program', 'school', 'life', 'teacher', 'year', 'teach', 'profess', 'lead', 'believ', 'high', 'satir', 'much', 'closer', 'realiti', 'teacher', 'scrambl', 'surviv', 'financi', 'insight', 'student', 'see', 'right', 'pathet', 'teacher', 'petti', 'whole', 'situat', 'remind', 'school', 'knew', 'student', 'saw', 'episod', 'student', 'repeatedli', 'tri', 'burn', 'school', 'immedi', 'recal', 'high', 'classic', 'line', 'inspector', 'sack', 'one', 'teacher', 'student', 'welcom', 'high', 'expect', 'mani', 'adult', 'age', 'think', 'high', 'far', 'fetch', 'piti']\n",
      "['high', 'is', 'cartoon', 'comedi', 'it', 'ran', 'at', 'the', 'same', 'time', 'as', 'some', 'other', 'program', 'about', 'school', 'life', 'such', 'as', 'teacher', 'my', 'year', 'in', 'the', 'teach', 'profess', 'lead', 'me', 'to', 'believ', 'that', 'satir', 'is', 'much', 'closer', 'to', 'realiti', 'than', 'is', 'teacher', 'the', 'scrambl', 'to', 'surviv', 'financi', 'the', 'insight', 'student', 'who', 'can', 'see', 'right', 'through', 'their', 'pathet', 'the', 'petti', 'of', 'the', 'whole', 'situat', 'all', 'remind', 'me', 'of', 'the', 'school', 'knew', 'and', 'their', 'student', 'when', 'saw', 'the', 'episod', 'in', 'which', 'student', 'repeatedli', 'tri', 'to', 'burn', 'down', 'the', 'school', 'immedi', 'recal', 'at', 'high', 'classic', 'line', 'inspector', \"i'm\", 'here', 'to', 'sack', 'one', 'of', 'your', 'teacher', 'student', 'welcom', 'to', 'high', 'expect', 'that', 'mani', 'adult', 'of', 'my', 'age', 'think', 'that', 'high', 'is', 'far', 'fetch', 'what', 'piti', 'that', 'it', \"isn't\"]\n"
     ]
    }
   ],
   "source": [
    "with open('data/tr','rb') as f:\n",
    "    tr = pickle.load(f)\n",
    "with open('data/tr_sw','rb') as f:\n",
    "    trs = pickle.load(f)\n",
    "print(tr[0]),\n",
    "print(trs[0])"
   ]
  },
  {
   "cell_type": "code",
   "execution_count": 6,
   "metadata": {},
   "outputs": [
    {
     "name": "stdout",
     "output_type": "stream",
     "text": [
      "25000\n",
      "25000\n",
      "50000\n"
     ]
    }
   ],
   "source": [
    "with open('data/tr_sw','rb') as f:\n",
    "    tr_d = pickle.load(f)\n",
    "with open('data/te_sw','rb') as f:\n",
    "    te_d = pickle.load(f)\n",
    "Xtrain = []\n",
    "Xtest = []\n",
    "for i in range(len(tr_d)):\n",
    "    Xtrain.append(\" \".join(tr_d[i]))\n",
    "    Xtest.append(\" \".join(te_d[i]))\n",
    "print(len(Xtrain))\n",
    "print(len(Xtest))\n",
    "Xtrain.extend(Xtest)\n",
    "print(len(Xtrain))"
   ]
  },
  {
   "cell_type": "code",
   "execution_count": 7,
   "metadata": {},
   "outputs": [],
   "source": [
    "cv = CountVectorizer(stop_words='english').fit_transform(Xtrain)\n",
    "cv_sw = CountVectorizer().fit_transform(Xtrain)"
   ]
  },
  {
   "cell_type": "code",
   "execution_count": 7,
   "metadata": {},
   "outputs": [],
   "source": [
    "with open('BOW/cv_feat_sw','wb') as f:\n",
    "    pickle.dump(cv_sw,f)\n",
    "with open('BOW/cv_feat','wb') as f:\n",
    "    pickle.dump(cv,f)\n"
   ]
  },
  {
   "cell_type": "code",
   "execution_count": 2,
   "metadata": {},
   "outputs": [
    {
     "name": "stdout",
     "output_type": "stream",
     "text": [
      "<bound method spmatrix.get_shape of <50000x15833 sparse matrix of type '<class 'numpy.int64'>'\n",
      "\twith 4100672 stored elements in Compressed Sparse Row format>>\n",
      "<bound method spmatrix.get_shape of <50000x16058 sparse matrix of type '<class 'numpy.int64'>'\n",
      "\twith 6159608 stored elements in Compressed Sparse Row format>>\n"
     ]
    }
   ],
   "source": [
    "with open('BOW/cv_feat_sw','rb') as f:\n",
    "    feats_sw = pickle.load(f)\n",
    "with open('BOW/cv_feat','rb') as f:\n",
    "    feats = pickle.load(f)\n",
    "print(feats.get_shape)\n",
    "print(feats_sw.get_shape)"
   ]
  }
 ],
 "metadata": {
  "kernelspec": {
   "display_name": "Python 3",
   "language": "python",
   "name": "python3"
  },
  "language_info": {
   "codemirror_mode": {
    "name": "ipython",
    "version": 3
   },
   "file_extension": ".py",
   "mimetype": "text/x-python",
   "name": "python",
   "nbconvert_exporter": "python",
   "pygments_lexer": "ipython3",
   "version": "3.7.4"
  }
 },
 "nbformat": 4,
 "nbformat_minor": 2
}
