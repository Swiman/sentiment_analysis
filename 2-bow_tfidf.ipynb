{
 "cells": [
  {
   "cell_type": "code",
   "execution_count": 0,
   "metadata": {
    "colab": {},
    "colab_type": "code",
    "id": "v3eK62JSKVYk"
   },
   "outputs": [],
   "source": [
    "import os\n",
    "import pickle\n",
    "import numpy as np\n",
    "\n",
    "from sklearn.feature_extraction.text import CountVectorizer,TfidfTransformer\n",
    "from sklearn.naive_bayes import BernoulliNB\n",
    "from sklearn import svm\n",
    "from sklearn.ensemble import RandomForestClassifier\n",
    "from sklearn.tree import DecisionTreeClassifier\n",
    "from sklearn.metrics import roc_curve,roc_auc_score,recall_score,f1_score,precision_score,confusion_matrix\n",
    "\n",
    "labels = np.zeros(25000)\n",
    "labels[:12500] = 1\n"
   ]
  },
  {
   "cell_type": "code",
   "execution_count": 0,
   "metadata": {
    "colab": {
     "base_uri": "https://localhost:8080/",
     "height": 35
    },
    "colab_type": "code",
    "id": "zSF7ZCktjJ6F",
    "outputId": "d801306f-cf57-4be9-a0f1-5ddd4f830060"
   },
   "outputs": [
    {
     "name": "stdout",
     "output_type": "stream",
     "text": [
      "Drive already mounted at /content/drive; to attempt to forcibly remount, call drive.mount(\"/content/drive\", force_remount=True).\n"
     ]
    }
   ],
   "source": [
    "from google.colab import drive\n",
    "drive.mount('/content/drive')"
   ]
  },
  {
   "cell_type": "markdown",
   "metadata": {},
   "source": [
    "**BOW Calculated locally, then uploaded to Gdrive**"
   ]
  },
  {
   "cell_type": "code",
   "execution_count": 0,
   "metadata": {
    "colab": {},
    "colab_type": "code",
    "id": "o9HbVJIBSOo2"
   },
   "outputs": [],
   "source": [
    "with open('/content/drive/My Drive/BOW+TFIDF/cv_feats','rb') as f:\n",
    "  bow_feats = pickle.load(f)\n",
    "with open('/content/drive/My Drive/BOW+TFIDF/cv_feats_sw','rb') as f:\n",
    "  bow_feats_sw = pickle.load(f)\n"
   ]
  },
  {
   "cell_type": "markdown",
   "metadata": {
    "colab_type": "text",
    "id": "KxGqeeBbg4Dc"
   },
   "source": [
    "#### Use TfidfTransformer to convert bow features to tfidf features , then save the results for further usage\n",
    "#if a word has a high tfidf score then it has high importance in its document\n",
    "\n"
   ]
  },
  {
   "cell_type": "code",
   "execution_count": 0,
   "metadata": {
    "colab": {
     "base_uri": "https://localhost:8080/",
     "height": 90
    },
    "colab_type": "code",
    "id": "qD-sAjaSKpPQ",
    "outputId": "bac63743-3060-48af-9118-ee351bbc4142"
   },
   "outputs": [
    {
     "name": "stdout",
     "output_type": "stream",
     "text": [
      "<bound method spmatrix.get_shape of <50000x15833 sparse matrix of type '<class 'numpy.float64'>'\n",
      "\twith 4100672 stored elements in Compressed Sparse Row format>>\n",
      "<bound method spmatrix.get_shape of <50000x16058 sparse matrix of type '<class 'numpy.float64'>'\n",
      "\twith 6159608 stored elements in Compressed Sparse Row format>>\n"
     ]
    }
   ],
   "source": [
    "transformer = TfidfTransformer()\n",
    "tfidf_feats = transformer.fit_transform(bow_feats)\n",
    "tfidf_feats_sw = transformer.fit_transform(bow_feats_sw)\n",
    "#with open('/content/drive/My Drive/BOW+TFIDF/tfidf_feats','wb') as f:\n",
    "#    pickle.dump(tfidf_feats,f)\n",
    "#with open('/content/drive/My Drive/BOW+TFIDF/tfidf_feats_sw','wb') as f:\n",
    "#    pickle.dump(tfidf_feats_sw,f)\n",
    "print(tfidf_feats.get_shape)\n",
    "print(tfidf_feats_sw.get_shape)"
   ]
  },
  {
   "cell_type": "markdown",
   "metadata": {
    "colab_type": "text",
    "id": "EXhg4UU6hb9b"
   },
   "source": [
    "# Load Feats"
   ]
  },
  {
   "cell_type": "markdown",
   "metadata": {},
   "source": [
    "#### EVERY TIME WE USE .TOARRAY() IN ORDER TO CONVERT SPARSE FEATURE MATRIX TO DENSE MATRIX"
   ]
  },
  {
   "cell_type": "code",
   "execution_count": 0,
   "metadata": {
    "colab": {},
    "colab_type": "code",
    "id": "6AntL4BbfwBd"
   },
   "outputs": [],
   "source": [
    "with open('/content/drive/My Drive/BOW+TFIDF/cv_feats','rb') as f:\n",
    "    bow_feats = pickle.load(f)\n",
    "with open('/content/drive/My Drive/BOW+TFIDF/tfidf_feats_sw','rb') as f:\n",
    "    tfidf_feats_sw = pickle.load(f)\n",
    "with open('/content/drive/My Drive/BOW+TFIDF/tfidf_feats','rb') as f:\n",
    "    tfidf_feats = pickle.load(f)\n"
   ]
  },
  {
   "cell_type": "markdown",
   "metadata": {
    "colab_type": "text",
    "id": "PbHOsWM5jF_O"
   },
   "source": [
    "# Naive Bayes"
   ]
  },
  {
   "cell_type": "code",
   "execution_count": null,
   "metadata": {},
   "outputs": [],
   "source": [
    "#instanciate the bernouli classifier\n",
    "gnb = BernoulliNB()\n",
    "\n",
    "# toarray() is used to convert bow_features from sparce matrix to a dense one\n",
    "\n",
    "gnb.fit(bow_feats[:25000].toarray(),labels)\n",
    "\n",
    "#with open('/content/drive/My Drive/nb/BOW_sw','wb') as f:\n",
    "#    pickle.dump(gnb,f)"
   ]
  },
  {
   "cell_type": "code",
   "execution_count": 0,
   "metadata": {
    "colab": {},
    "colab_type": "code",
    "id": "k42sKAS6bTvR"
   },
   "outputs": [],
   "source": [
    "y_pred = gnb.predict(bow_feats[25000:].toarray())\n",
    "#with open('/content/drive/My Drive/nb/y_pred_BOW','wb') as f:\n",
    "#  pickle.dump(y_pred,f)"
   ]
  },
  {
   "cell_type": "markdown",
   "metadata": {
    "colab_type": "text",
    "id": "NAUVQNSRj33z"
   },
   "source": [
    "**===========**"
   ]
  },
  {
   "cell_type": "code",
   "execution_count": 0,
   "metadata": {
    "colab": {
     "base_uri": "https://localhost:8080/",
     "height": 35
    },
    "colab_type": "code",
    "id": "zD8_g6y2ktxR",
    "outputId": "cff78021-3320-4def-8a00-1763da008d27"
   },
   "outputs": [
    {
     "data": {
      "text/plain": [
       "BernoulliNB(alpha=1.0, binarize=0.0, class_prior=None, fit_prior=True)"
      ]
     },
     "execution_count": 9,
     "metadata": {
      "tags": []
     },
     "output_type": "execute_result"
    }
   ],
   "source": [
    "gnb = BernoulliNB()\n",
    "gnb.fit(tfidf_feats[:25000].toarray(),labels)\n",
    "#with open('/content/drive/My Drive/nb/TFIDF','wb') as f:\n",
    "#    pickle.dump(gnb,f)"
   ]
  },
  {
   "cell_type": "code",
   "execution_count": 0,
   "metadata": {
    "colab": {},
    "colab_type": "code",
    "id": "fazYbiHA0ZCm"
   },
   "outputs": [],
   "source": [
    "y_pred = gnb.predict(tfidf_feats[25000:].toarray())\n",
    "\n",
    "#with open('/content/drive/My Drive/nb/y_pred_TFIDF','wb') as f:\n",
    "#  pickle.dump(y_pred,f)"
   ]
  },
  {
   "cell_type": "code",
   "execution_count": 0,
   "metadata": {
    "colab": {
     "base_uri": "https://localhost:8080/",
     "height": 35
    },
    "colab_type": "code",
    "id": "1G7h8zkhqhJf",
    "outputId": "14ae36df-127e-4aec-acf8-0ba865675181"
   },
   "outputs": [
    {
     "data": {
      "text/plain": [
       "BernoulliNB(alpha=1.0, binarize=0.0, class_prior=None, fit_prior=True)"
      ]
     },
     "execution_count": 13,
     "metadata": {
      "tags": []
     },
     "output_type": "execute_result"
    }
   ],
   "source": [
    "gnbW = BernoulliNB()\n",
    "gnbW.fit(tfidf_feats_sw[:25000].toarray(),y = labels)\n",
    "#with open('/content/drive/My Drive/nb/TFIDF_sw','wb') as f:\n",
    "#  pickle.dump(gnb,f)"
   ]
  },
  {
   "cell_type": "code",
   "execution_count": 0,
   "metadata": {
    "colab": {},
    "colab_type": "code",
    "id": "0wyNEzbP0jHG"
   },
   "outputs": [],
   "source": [
    "y_pred = gnbW.predict(tfidf_feats_sw[:25000].toarray())\n",
    "#with open('/content/drive/My Drive/nb/y_pred_TFIDF_sw','wb') as f:\n",
    "#  pickle.dump(y_pred,f)"
   ]
  },
  {
   "cell_type": "code",
   "execution_count": null,
   "metadata": {},
   "outputs": [],
   "source": [
    "with open('/content/drive/My Drive/nb/y_pred_BOW','rb') as f:\n",
    "  y1 = pickle.load(f)\n",
    "with open('/content/drive/My Drive/nb/y_pred_TFIDF','rb') as f:\n",
    "  y2 = pickle.load(f)\n",
    "with open('/content/drive/My Drive/nb/y_pred_TFIDF_sw','rb') as f:\n",
    "  y3 = pickle.load(f)\n"
   ]
  },
  {
   "cell_type": "markdown",
   "metadata": {
    "colab_type": "text",
    "id": "hIJurkT_fSUc"
   },
   "source": [
    "# SVM"
   ]
  },
  {
   "cell_type": "code",
   "execution_count": 0,
   "metadata": {
    "colab": {
     "base_uri": "https://localhost:8080/",
     "height": 74
    },
    "colab_type": "code",
    "id": "J_PjfQI5hwCg",
    "outputId": "b354fb96-b06d-4387-b958-bda149e7fb43"
   },
   "outputs": [
    {
     "name": "stderr",
     "output_type": "stream",
     "text": [
      "/usr/local/lib/python3.6/dist-packages/sklearn/svm/base.py:929: ConvergenceWarning: Liblinear failed to converge, increase the number of iterations.\n",
      "  \"the number of iterations.\", ConvergenceWarning)\n"
     ]
    }
   ],
   "source": [
    "SVM = svm.LinearSVC(max_iter=2000)\n",
    "SVM_model = SVM.fit(bow_feats[:25000],labels)\n",
    "#with open('/content/drive/My Drive/svm/BOW','wb') as f:\n",
    "#  pickle.dump(SVM_model,f)"
   ]
  },
  {
   "cell_type": "code",
   "execution_count": 0,
   "metadata": {
    "colab": {},
    "colab_type": "code",
    "id": "sEFwCaI3hyS_"
   },
   "outputs": [],
   "source": [
    "y_pred = SVM_model.predict(bow_feats[25000:])\n",
    "\n",
    "#with open('/content/drive/My Drive/svm/y_pred_BOW','wb') as f:\n",
    "#  pickle.dump(y_pred,f)\n"
   ]
  },
  {
   "cell_type": "markdown",
   "metadata": {
    "colab_type": "text",
    "id": "PbUv8Tug-Q2k"
   },
   "source": [
    "========================"
   ]
  },
  {
   "cell_type": "code",
   "execution_count": 0,
   "metadata": {
    "colab": {},
    "colab_type": "code",
    "id": "uIaKrh4d9zrC"
   },
   "outputs": [],
   "source": [
    "SVM = svm.LinearSVC(max_iter=500)\n",
    "SVM_model = SVM.fit(tfidf_feats[:25000],labels)\n",
    "#with open('/content/drive/My Drive/svm/TFIDF','wb') as f:\n",
    "#  pickle.dump(y_pred,f)"
   ]
  },
  {
   "cell_type": "code",
   "execution_count": 0,
   "metadata": {
    "colab": {},
    "colab_type": "code",
    "id": "N6snaZ5Y90mq"
   },
   "outputs": [],
   "source": [
    "y_pred = SVM_model.predict(tfidf_feats[25000:])\n",
    "#with open('/content/drive/My Drive/svm/y_pred_TFIDF','wb') as f:\n",
    "#  pickle.dump(y_pred,f)"
   ]
  },
  {
   "cell_type": "code",
   "execution_count": 0,
   "metadata": {
    "colab": {},
    "colab_type": "code",
    "id": "0mUIcLjwANXb"
   },
   "outputs": [],
   "source": [
    "SVM = svm.LinearSVC(max_iter=500)\n",
    "SVM_model = SVM.fit(tfidf_feats_sw[:25000],labels)\n",
    "#with open('/content/drive/My Drive/svm/TFIDF_sw','wb') as f:\n",
    "#  pickle.dump(y_pred,f)"
   ]
  },
  {
   "cell_type": "code",
   "execution_count": 0,
   "metadata": {
    "colab": {},
    "colab_type": "code",
    "id": "WRzBbbB0AUTf"
   },
   "outputs": [],
   "source": [
    "y_pred = SVM_model.predict(tfidf_feats_sw[25000:])\n",
    "#with open('/content/drive/My Drive/svm/y_pred_TFIDF_sw','wb') as f:\n",
    "#  pickle.dump(y_pred,f)\n"
   ]
  },
  {
   "cell_type": "code",
   "execution_count": 0,
   "metadata": {
    "colab": {
     "base_uri": "https://localhost:8080/",
     "height": 72
    },
    "colab_type": "code",
    "id": "piMs7cgwpnX5",
    "outputId": "f602350a-2f7d-4286-fff0-7ac085955bde"
   },
   "outputs": [
    {
     "name": "stdout",
     "output_type": "stream",
     "text": [
      "0.81672\n",
      "0.85604\n",
      "0.86696\n"
     ]
    }
   ],
   "source": [
    "with open('/content/drive/My Drive/svm/y_pred_BOW','rb') as f:\n",
    "  y1 = pickle.load(f)\n",
    "with open('/content/drive/My Drive/svm/y_pred_TFIDF','rb') as f:\n",
    "  y2 = pickle.load(f)\n",
    "with open('/content/drive/My Drive/svm/y_pred_TFIDF_sw','rb') as f:\n",
    "  y3 = pickle.load(f)\n",
    "\n",
    "print(np.mean(labels == y1))\n",
    "print(np.mean(labels == y2))\n",
    "print(np.mean(labels == y3))"
   ]
  },
  {
   "cell_type": "markdown",
   "metadata": {
    "colab_type": "text",
    "id": "5aq6LqlDAtNP"
   },
   "source": [
    "# RANDOM FOREST"
   ]
  },
  {
   "cell_type": "code",
   "execution_count": 0,
   "metadata": {
    "colab": {
     "base_uri": "https://localhost:8080/",
     "height": 74
    },
    "colab_type": "code",
    "id": "0HJcchgdhyfw",
    "outputId": "b85c1389-cff2-44d1-9f4d-63a0a18de47c"
   },
   "outputs": [
    {
     "name": "stderr",
     "output_type": "stream",
     "text": [
      "/usr/local/lib/python3.6/dist-packages/sklearn/ensemble/forest.py:245: FutureWarning: The default value of n_estimators will change from 10 in version 0.20 to 100 in 0.22.\n",
      "  \"10 in version 0.20 to 100 in 0.22.\", FutureWarning)\n"
     ]
    }
   ],
   "source": [
    "rf = RandomForestClassifier()\n",
    "rf_model = rf.fit(bow_feats[:25000],labels)\n",
    "#with open('/content/drive/My Drive/rf/BOW','wb') as f:\n",
    "#  pickle.dump(rf_model,f)\n",
    "y_pred = rf_model.predict(bow_feats[25000:])\n",
    "with open('/content/drive/My Drive/rf/y_pred_BOW','wb') as f:\n",
    "  pickle.dump(y_pred,f)\n"
   ]
  },
  {
   "cell_type": "markdown",
   "metadata": {
    "colab_type": "text",
    "id": "iROS-QLZBrZc"
   },
   "source": [
    "**======================**"
   ]
  },
  {
   "cell_type": "code",
   "execution_count": 0,
   "metadata": {
    "colab": {},
    "colab_type": "code",
    "id": "8hoYjfwoDEgb"
   },
   "outputs": [],
   "source": [
    "rf = RandomForestClassifier()\n",
    "rf_model = rf.fit(tfidf_feats[:25000],labels)\n",
    "#with open('/content/drive/My Drive/rf/TFIDF','wb') as f:\n",
    "#  pickle.dump(rf_model,f)\n",
    "y_pred = rf_model.predict(tfidf_feats[25000:])\n",
    "#with open('/content/drive/My Drive/rf/y_pred_TFIDF','wb') as f:\n",
    "#  pickle.dump(y_pred,f)\n"
   ]
  },
  {
   "cell_type": "code",
   "execution_count": 0,
   "metadata": {
    "colab": {},
    "colab_type": "code",
    "id": "hk_rpdinhytg"
   },
   "outputs": [],
   "source": [
    "rf = RandomForestClassifier()\n",
    "rf_model = rf.fit(tfidf_feats_sw[:25000],labels)\n",
    "#with open('/content/drive/My Drive/rf/BOW','wb') as f:\n",
    "#  pickle.dump(rf_model,f)\n",
    "y_pred = rf_model.predict(tfidf_feats_sw[25000:])\n",
    "#with open('/content/drive/My Drive/rf/y_pred_TFIDF_sw','wb') as f:\n",
    "#  pickle.dump(y_pred,f)"
   ]
  },
  {
   "cell_type": "code",
   "execution_count": 0,
   "metadata": {
    "colab": {
     "base_uri": "https://localhost:8080/",
     "height": 72
    },
    "colab_type": "code",
    "id": "o-OcuUze1cH_",
    "outputId": "4fda27d8-20a3-4012-d05e-b883dd2be0f4"
   },
   "outputs": [
    {
     "name": "stdout",
     "output_type": "stream",
     "text": [
      "0.7736\n",
      "0.7736\n",
      "0.73884\n"
     ]
    }
   ],
   "source": [
    "with open('/content/drive/My Drive/rf/y_pred_BOW','rb') as f:\n",
    "  y1 = pickle.load(f)\n",
    "with open('/content/drive/My Drive/rf/y_pred_TFIDF','rb') as f:\n",
    "  y2 = pickle.load(f)\n",
    "with open('/content/drive/My Drive/rf/y_pred_TFIDF_sw','rb') as f:\n",
    "  y3 = pickle.load(f)\n",
    "\n",
    "print(np.mean(labels == y1))\n",
    "print(np.mean(labels == y2))\n",
    "print(np.mean(labels == y3))"
   ]
  },
  {
   "cell_type": "markdown",
   "metadata": {
    "colab_type": "text",
    "id": "sILuzH5yP022"
   },
   "source": [
    "# DECISION TREE"
   ]
  },
  {
   "cell_type": "code",
   "execution_count": 0,
   "metadata": {
    "colab": {},
    "colab_type": "code",
    "id": "-iZJ6SNURDnj"
   },
   "outputs": [],
   "source": [
    "dt = DecisionTreeClassifier()\n",
    "dt_model = dt.fit(bow_feats[:25000],labels)\n",
    "#with open('/content/drive/My Drive/dt/BOW','wb') as f:\n",
    "#  pickle.dump(dt_model,f)\n",
    "y_pred = dt_model.predict(bow_feats[25000:])\n",
    "#with open('/content/drive/My Drive/dt/y_pred_BOW','wb') as f:\n",
    "#  pickle.dump(y_pred,f)"
   ]
  },
  {
   "cell_type": "code",
   "execution_count": 0,
   "metadata": {
    "colab": {},
    "colab_type": "code",
    "id": "sS4oEmixSgYt"
   },
   "outputs": [],
   "source": [
    "dt = DecisionTreeClassifier()\n",
    "dt_model = dt.fit(tfidf_feats[:25000],labels)\n",
    "#with open('/content/drive/My Drive/dt/TFIDF','wb') as f:\n",
    "#  pickle.dump(dt_model,f)\n",
    "y_pred = dt_model.predict(tfidf_feats[25000:])\n",
    "#with open('/content/drive/My Drive/dt/y_pred_TFIDF','wb') as f:\n",
    "#  pickle.dump(y_pred,f)\n"
   ]
  },
  {
   "cell_type": "code",
   "execution_count": 0,
   "metadata": {
    "colab": {},
    "colab_type": "code",
    "id": "lv9c-1C5WOJI"
   },
   "outputs": [],
   "source": [
    "dt = DecisionTreeClassifier()\n",
    "dt_model = dt.fit(tfidf_feats_sw[:25000],labels)\n",
    "#with open('/content/drive/My Drive/dt/TFIDF_sw','wb') as f:\n",
    "#  pickle.dump(dt_model,f)\n",
    "y_pred = dt_model.predict(tfidf_feats_sw[25000:])\n",
    "#with open('/content/drive/My Drive/dt/y_pred_TFIDF_sw','wb') as f:\n",
    "#  pickle.dump(y_pred,f)"
   ]
  },
  {
   "cell_type": "code",
   "execution_count": 0,
   "metadata": {
    "colab": {
     "base_uri": "https://localhost:8080/",
     "height": 72
    },
    "colab_type": "code",
    "id": "6tuPgOxC24v1",
    "outputId": "feac6275-038f-480b-f38c-d040614454cb"
   },
   "outputs": [
    {
     "name": "stdout",
     "output_type": "stream",
     "text": [
      "0.7174\n",
      "0.7136\n",
      "0.70584\n"
     ]
    }
   ],
   "source": [
    "with open('/content/drive/My Drive/dt/y_pred_BOW','rb') as f:\n",
    "  y1 = pickle.load(f)\n",
    "with open('/content/drive/My Drive/dt/y_pred_TFIDF','rb') as f:\n",
    "  y2 = pickle.load(f)\n",
    "with open('/content/drive/My Drive/dt/y_pred_TFIDF_sw','rb') as f:\n",
    "  y3 = pickle.load(f)\n",
    "\n",
    "print(np.mean(labels == y1))\n",
    "print(np.mean(labels == y2))\n",
    "print(np.mean(labels == y3))"
   ]
  }
 ],
 "metadata": {
  "accelerator": "GPU",
  "colab": {
   "collapsed_sections": [
    "hIJurkT_fSUc",
    "5aq6LqlDAtNP",
    "sILuzH5yP022"
   ],
   "name": "bow_tfidf.ipynb",
   "provenance": []
  },
  "kernelspec": {
   "display_name": "Python 3",
   "language": "python",
   "name": "python3"
  },
  "language_info": {
   "codemirror_mode": {
    "name": "ipython",
    "version": 3
   },
   "file_extension": ".py",
   "mimetype": "text/x-python",
   "name": "python",
   "nbconvert_exporter": "python",
   "pygments_lexer": "ipython3",
   "version": "3.7.4"
  }
 },
 "nbformat": 4,
 "nbformat_minor": 1
}
